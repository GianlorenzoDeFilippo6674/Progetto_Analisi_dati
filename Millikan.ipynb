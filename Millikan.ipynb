{
 "cells": [
  {
   "cell_type": "markdown",
   "metadata": {},
   "source": [
    "# Progetto di Analisi Statistica dei Dati\n",
    "## Esperimento di Millikan\n",
    "### Gianlorenzo De Filippo e Antonio Ammendola\n",
    "\n",
    "In questa prima parte del progetto si è analizzati i dati provenienti da un esperimento di Millikan, atto a verificare la quantizzazione della carica elettrica e una stima della carica elementare. Inoltre, come conseguenza delle dimensioni ridotte delle goccioline d'olio (esperimento di Perrin), con i dati forniti si è riusciti anche a stimare l'ordine di grandezza della costante di Boltzmann nelle unità del S.I."
   ]
  },
  {
   "cell_type": "markdown",
   "metadata": {},
   "source": [
    "##### Descrizione dell'esperimento\n",
    "\n",
    "L'esperimento di Millikan ha lo scopo di ricavare una stima del modulo della carica elementare $e$ dell'elettrone (il segno sarà attribuito seguendo il suo moto sotto l'influenza di un campo elettrostatico).\\\n",
    "L'apparato sperimentale consiste in un contenitore retto le cui due basi piatte sono le armature di un condensatore mantenute ad una distanza di $d=4.401\\,mm$. Quando accese, a discrezione dello sperimentatore, queste sono mantenute ad una tensione di $V_E=405.2\\,V$. Al centro della faccia superiore è posto un buchino da cui far entrare le particelle d'olio, di densità $\\rho_o=859.9\\, kg/m^3$ a temperatura di laboratorio pari a $T=295.15\\,K$, precedentemente spruzzate da un nebulizzatore. Nel processo di nebulizzazione avviene strofinio fra l'olio e il nebulizzatore, per attrito, così da caricare le gocce con una minuscola carica elettrica $q_E$. L'uso dell'olio è conveniente per due motivi: il primo è che l'olio è formato da molecole apolari e quindi non presenta dipoli permantenti che potrebbero influenzarne il moto nel condensatore, il secondo è dovuto ad una più lenta evaporizzazione delle gocce d'olio.\\\n",
    "Fra le facce del condensatore è presente ovviamente dell'aria, che entra attraverso il buchino, la quale è termalizzata con la temperatura del laboratorio e presenta una densità di $\\rho_a=1.196\\,kg/m^3$ a pressione di un'atmosfera $p_0=1\\,atm$.\\\n",
    "Il moto delle goccioline all'interno delle armature del condensatore (spento) è osservato attraverso un microscopio e lo spazio di riferimento visualizzabile che esse percorrono è pari a $s=1.595\\,mm$, nel quale subiscono l'azione del campo gravitazionale terrestre che, nella posizione geografica del laboratorio, è stimato essere $g=9.79637\\,m/s^2$.\\\n",
    "La presenza dell'aria fa si che sia presente attrito viscoso di Stokes e quindi le goccioline raggiungono una velocità limite (drift) costante nella zona di riferimento visibile nel microscopio. Con due fotogate, collegato ad un Computer, si sono misurati i vari intervalli temporali di transito della gocciolina all'interno della regione di riferimento sia quando era in caduta libera sia in presenza del campo elettrostatico.\\\n",
    "Queste misure dei tempi sono state ripetute $N$ volte da ciascun sperimentatore per ottenere variabilità statistica del fenomeno, legata anche al fatto che le dimensioni ridotte delle goccioline fanno apprezzare il loro moto Browniano rispetto al moto ordinato di Drift."
   ]
  },
  {
   "cell_type": "markdown",
   "metadata": {},
   "source": [
    "##### Analisi Dati\n",
    "\n",
    "La prima parte dell'esperimento consiste nel far entrare le goccioline d'olio elettrizzate all'interno del condenstore, inizialmente spento, in modo che siano in caduta libera soggetti solo al campo gravitaziondi Millikan ha lo scopo di ricavare una stima del modulo della carica elementare $e$ dell'elettrone (il segno sarà attribuito seguendo il suo moto sotto l'influenza di un campo elettrostatico).\\\n",
    "L'apparato sperimentale consiste in un contenitore retto le cui due basi piatte sono le armature di un condensatore mantenute ad una distanza di $d=4.401\\,mm$. Quando accese, a discrezione dello sperimentatore, queste sono mantenute ad una tensione di $V_E=405.2\\,V$. Al centro della faccia superiore è posto un buchino da cui far entrare le particelle d'olio, di densità $\\rho_o=859.9\\, kg/m^3$ a temperatura di laboratorio pari a $T=295.15\\,K$, precedentemente spruzzate da un nebulizzatore. Nel processo di nebulizzazione avviene strofinio fra l'olio e il nebulizzatore, per attrito, così da caricare le gocce con una minuscola carica elettrica $q_E$. L'uso dell'olio è conveniente per due motivi: il primo è che l'olio è formato da molecole apolari e quindi non presenta dipoli permantenti che potrebbero influenzarne il moto nel condensatore, il secondo è dovuto ad una più lenta evaporizzazione delle gocce d'olio.\\\n",
    "Fra le facce del condensatore è presente ovviamente dell'aria, che entra attraverso il buchino, la quale è termalizzata con la temperatura del laboratorio e presenta una densità di $\\rho_a=1.196\\,kg/m^3$ a pressione di un'atmosfera $p_0=1\\,atm$.\\\n",
    "Il moto delle goccioline all'interno delle armature del condensatore (spento) è osservato attraverso un microscopio e lo spazio di riferimento visualizzabile che esse percorrono è pari a $s=1.595\\,mm$, nel quale subiscono l'azione del campo gravitazionale terrestre che, nella posizione geografica del laboratorio, è stimato essere $g=9.79637\\,m/s^2$.\\\n",
    "La presenza dell'aria fa si che sia presente attrito viscoso di Stokes e quindi le goccioline raggiungono una velocità limite (drift) costante nella zona di riferimento visibile nel microscopio. Con due fotogate, collegato ad un Computer, si sono misurati i vari intervalli temporali di transito della gocciolina all'interno della regione di riferimento sia quando era in caduta libera sia in presenza del campo elettrostatico.\\\n",
    "Queste misure dei tempi sono state ripetute $N$ volte da ciascun sperimentatore per ottenere variabilità statistica del fenomeno, legata anche al fatto che le dimensioni ridotte delle goccioline fanno apprezzare il loro moto Browniano rispetto al moto ordinato di Drift."
   ]
  },
  {
   "cell_type": "code",
   "execution_count": null,
   "metadata": {},
   "outputs": [],
   "source": []
  }
 ],
 "metadata": {
  "kernelspec": {
   "display_name": "Python 3",
   "language": "python",
   "name": "python3"
  },
  "language_info": {
   "codemirror_mode": {
    "name": "ipython",
    "version": 3
   },
   "file_extension": ".py",
   "mimetype": "text/x-python",
   "name": "python",
   "nbconvert_exporter": "python",
   "pygments_lexer": "ipython3",
   "version": "3.8.5"
  }
 },
 "nbformat": 4,
 "nbformat_minor": 4
}
