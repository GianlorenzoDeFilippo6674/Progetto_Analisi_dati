{
 "cells": [
  {
   "cell_type": "markdown",
   "metadata": {},
   "source": [
    "# Progetto di Analisi Statistica dei Dati\n",
    "## Esperimento di Millikan\n",
    "### Gianlorenzo De Filippo e Antonio Ammendola\n",
    "\n",
    "In questa prima parte del progetto sono analizzati i dati provenienti da un esperimento di Millikan, atto a verificare la quantizzazione della carica elettrica e una stima della carica elementare. Inoltre, come conseguenza delle dimensioni ridotte delle goccioline d'olio (esperimento di Perrin), con i dati forniti si è riusciti anche a stimare l'ordine di grandezza della costante di Boltzmann nelle unità del S.I."
   ]
  },
  {
   "cell_type": "markdown",
   "metadata": {},
   "source": [
    "##### Descrizione dell'esperimento\n",
    "\n",
    "L'esperimento di Millikan ha lo scopo di ricavare una stima del modulo della carica elementare $e$ dell'elettrone (il segno sarà attribuito seguendo il suo moto sotto l'influenza di un campo elettrostatico).\\\n",
    "L'apparato sperimentale consiste in un contenitore retto le cui due basi piatte sono le armature di un condensatore mantenute ad una distanza di $d=4.401\\,mm$. Quando accese, a discrezione dello sperimentatore, queste sono mantenute ad una tensione di $V_E=405.2\\,V$. Al centro della faccia superiore è posto un buchino da cui far entrare le particelle d'olio, di densità $\\rho_o=859.9\\, \\dfrac{kg}{m^3}$ a temperatura di laboratorio pari a $T=295.15\\,K$, precedentemente spruzzate da un nebulizzatore. Nel processo di nebulizzazione avviene strofinio fra l'olio e il nebulizzatore, per attrito, così da caricare le gocce con una minuscola carica elettrica $q_E$. L'uso dell'olio è conveniente per due motivi: il primo è che l'olio è formato da molecole apolari e quindi non presenta dipoli permantenti che potrebbero influenzarne il moto nel condensatore, il secondo è dovuto ad una più lenta evaporizzazione delle gocce d'olio.\\\n",
    "Fra le facce del condensatore è presente ovviamente dell'aria, che entra attraverso il buchino, la quale è termalizzata con la temperatura del laboratorio e presenta una densità di $\\rho_a=1.196\\, \\dfrac{kg}{m^3}$ a pressione di un'atmosfera $p_0=1\\,atm$.\\\n",
    "Il moto delle goccioline all'interno delle armature del condensatore (spento) è osservato attraverso un microscopio e lo spazio di riferimento visualizzabile che esse percorrono è pari a $s=1.595\\,mm$, nel quale subiscono l'azione del campo gravitazionale terrestre che, nella posizione geografica del laboratorio, è stimato essere $g=9.79637\\, \\dfrac{m}{s^2}$.\\\n",
    "La presenza dell'aria fa si che sia presente attrito viscoso di Stokes e quindi le goccioline raggiungono una velocità limite (drift) costante nella zona di riferimento visibile nel microscopio. Con due fotogate, collegati ad un Computer, si sono misurati i vari intervalli temporali di transito della gocciolina all'interno della regione di riferimento sia quando era in caduta libera sia in presenza del campo elettrostatico.\\\n",
    "Queste misure dei tempi sono state ripetute $N$ volte da ciascun sperimentatore per ottenere variabilità statistica del fenomeno, legata anche al fatto che le dimensioni ridotte delle goccioline fanno apprezzare il loro moto Browniano rispetto al moto ordinato di Drift."
   ]
  },
  {
   "cell_type": "markdown",
   "metadata": {},
   "source": [
    "##### Descrizione del fenomeno e Analisi Dati\n",
    "\n",
    "La prima parte dell'esperimento consiste nel far entrare le goccioline d'olio elettrizzate all'interno del condenstore, inizialmente spento, in modo che siano in caduta libera soggetti solo al campo gravitazionale $\\vec{g}$ e alle forze fluidodinamiche di Archimede e Stokes. Utilizzando quindi l'equazione di Newton, con l'asse $z$ puntante verso il fondo del recipiente, sappiamo che:\n",
    "\n",
    "$$m\\,g-6\\,\\pi\\,\\eta\\,r\\,v_g-\\rho_a\\,g\\,V=m\\,a$$\n",
    "\n",
    "dove $m$ è la massa della goccia d'olio, $V$ è il suo volume, $r$ è il suo raggio (approssimata ad una sferetta), $\\eta$ è la viscosità dinamica dell'aria e $a$ è l'accelerazione della particella.\\\n",
    "Noi sappiamo che la gocciolina, in un tempo molto breve, raggiungerà una velocità limite costante ($a=0\\, \\dfrac{m}{s^2}$) e dunque:\n",
    "\n",
    "$$m\\,g-6\\,\\pi\\,\\eta\\,r\\,v_g-\\rho_a\\,g\\,V=0$$\n",
    "\n",
    "Sappiamo che la massa della goccia dipende dal suo volume, essendo omogenea, secondo una relazione lineare $m=\\rho_o\\,V$ con $V=\\dfrac{4}{3}\\,\\pi\\,r^3$ il volume di una sfera di raggio $r$ (La tensione superficiale dell'olio è molto più forte delle altre interazioni agenti sulla superficie, dunque per minimizzare l'energia la forma assunta dalla goccia è approssimativamente una sferetta per la disuguaglianza isoperimetrica). L'equazione precedente può essere riscritta come:\n",
    "\n",
    "$$\\dfrac{4}{3}\\,\\pi\\,r^3\\,\\rho_o\\,g-6\\,\\pi\\,\\eta\\,r\\,v_g-\\rho_a\\,g\\,\\dfrac{4}{3}\\,\\pi\\,r^3=0$$\n",
    "\n",
    "Semplificando:\n",
    "\n",
    "$$2\\,r^2\\,g(\\rho_o-\\rho_a)=9\\,\\eta\\,v_g$$\n",
    "\n",
    "Sappiamo che la viscosità dinamica dell'aria, per oggetti di piccole dimensioni, dipende dalla pressione $p_0$ e dal raggio $r$ secondo questa relazione:\n",
    "\n",
    "$$\\eta=\\dfrac{\\eta_0}{1+\\dfrac{b}{p_0\\,r}}$$\n",
    "\n",
    "dove $b=0.008226\\,Pa\\cdot m$ e $\\eta_0=1.84287\\cdot10^{-5}\\,Pa\\cdot s$ sono dei parametri caratteristici dell'aria.\\\n",
    "Sostituendo nella relazione precedente si può trovare l'espressione del raggio $r>0$ risolvendo l'equazione di secondo grado risultante ottenendo:\n",
    "\n",
    "$$r=-\\dfrac{b}{2\\,p_0}+\\sqrt{\\dfrac{b^2}{4\\,p_0^2}+\\dfrac{9\\,\\eta_0\\,v_g}{2\\,g\\,(\\rho_o-\\rho_a)}}$$\n",
    "\n",
    "Sapendo che la velocità limite è data da $v_g=\\dfrac{s}{t_g}$ si conclude che i raggi delle goccioline sono dati dalla seguente espressione:\n",
    "\n",
    "$$r=-\\dfrac{b}{2\\,p_0}+\\sqrt{\\dfrac{b^2}{4\\,p_0^2}+\\dfrac{9\\,\\eta_0\\,s}{2\\,g\\,(\\rho_o-\\rho_a)\\,t_g}}$$"
   ]
  },
  {
   "cell_type": "markdown",
   "metadata": {},
   "source": [
    "Nella seconda parte del moto la goccia, dopo aver attraversato la regione di spazio di riferimento, è soggetta ad un campo elettrostatico uniforme, diretto dalla faccia superiore verso la faccia inferiore, di modulo $E=\\dfrac{V_E}{d}$.\\\n",
    "Sperimentalmente si osserva che le varie gocce di test inizialmente rallentano il loro moto per poi invertirlo raggiungendo una nuova velocità limite di ascesa $v_E$. Da questo possiamo affermare che il segno della carica elettrica dell'elettrone è negativo, ora bisogna stimare la sua intesità in Coulomb. In questo caso l'equazione di Newton può essere scritta come:\n",
    "\n",
    "$$m\\,g+6\\,\\pi\\,\\eta\\,r\\,v_E-\\rho_a\\,g\\,V-q_E\\,E=0$$\n",
    "\n",
    "Isolando $q_E$ si ottiene:\n",
    "\n",
    "$$q_E=\\dfrac{6\\,\\pi\\,\\eta\\,r\\,d}{V_E}(v_E+v_g)$$\n",
    "\n",
    "Esprimendo $\\eta=\\dfrac{\\eta_0}{1+\\dfrac{b}{p_0\\,r}}$, $v_E=\\dfrac{s}{t_E}$ e $v_g=\\dfrac{s}{t_g}$ si ha che:\n",
    "\n",
    "$$q_E=\\dfrac{6\\,\\pi\\,\\eta_0\\,r\\,s\\,d}{V_E\\bigg[1+\\dfrac{b}{p_0\\,r}\\bigg]}\\left(\\dfrac{1}{t_E}+\\dfrac{1}{t_g}\\right)$$\n",
    "\n",
    "dove $r$ è il raggio della gocciolina ottenuto precedentemente e $t_E$ è il tempo di ascesa nella zona di riferimento nella seconda parte del moto."
   ]
  },
  {
   "cell_type": "code",
   "execution_count": null,
   "metadata": {},
   "outputs": [],
   "source": []
  },
  {
   "cell_type": "markdown",
   "metadata": {},
   "source": [
    "Nella terza parte dell'esperienza, gli sperimentatori hanno tentato di ottenere una stima della costante di Boltzmann attraveso gli effetti del moto Browniano sul moto di drift delle goccioline.\\\n",
    "Consideriamo solo la proiezione del moto lungo l'asse $z$ delle goccioline d'olio, esso sarà scomponibile in due componenti: una ordinata di drift $z_d$ e una disordinata dovuta al moto Browniano $z_B$ in modo tale che $z=z_d+z_B$. Se prendiamo il valor medio dello spostamento della particella si ha che: $\\left<z\\right>=\\left<z_d+z_B\\right>=\\left<z_d\\right>+\\left<z_B\\right>=s$, dove ovviamente $\\left<z_d\\right>=s$ è la distanza media percorsa nel moto di Drift, mentre $\\left<z_B\\right>=0$ poiché è la media di un moto totalmente casuale. Infatti, dalla teoria di Einstein sul moto Browniano, egli dimostra che la p.d.f associata al moto casuale è infatti una gaussiana centrata nell'origine (valore atteso 0) rispetto agli spostamenti $z$ della forma:\n",
    "\n",
    "$$\\rho(z,\\,t)=\\frac{n}{\\sqrt{4\\,\\pi\\,D\\,t}}\\mbox{e}^{-\\dfrac{z^2}{4\\,D\\,t}}$$\n",
    "\n",
    "dove $n$ sono le molecole di aria contenute nel recipiente e $2\\,D=\\dfrac{k_B\\,T}{3\\,\\pi\\,\\eta\\,r}$ è il coefficiente di diffusione.\\\n",
    "La varianza dello spostamento $z$, valutata in un tempo $\\left<t\\right>$, è pari a $\\sigma_z^2=2\\,D\\left<t\\right>$. Ora sappiamo però che la varianza di una grandezza è esprimibile in funzione dei valori di aspettazione in questa maniera: $\\left<z^2\\right>-\\,\\left(\\left<z\\right>\\right)^2=2\\,D\\left<t\\right>$; sapendo che $z=z_d+z_B$ e $\\left<z\\right>=s$ si ha:\n",
    "\n",
    "$$\\left<z_d^2\\right>+\\left<z_B^2\\right>+2\\left<z_B\\right>\\left<z_d\\right>-s^2=2\\,D\\left<t\\right>$$\n",
    "\n",
    "Utilizzando il fatto che $\\left<z_B\\right>=0$ e $\\left<z_d^2\\right>=s^2$:\n",
    "\n",
    "$$\\left<z_B^2\\right>=2\\,D\\left<t\\right>$$\n",
    "\n",
    "Ora possiamo stimare lo scarto quadratico della posizione dovuta al moto Browniano utilizzando la varianza di tempi misurati dal fotogate e la velocità di drift nel seguente modo $\\left<z_B^2\\right>=\\sigma_t^2\\left<v_d\\right>^2$, trovando che:\n",
    "\n",
    "$$\\sigma_t^2\\left<v_d\\right>^2=2\\,D\\left<t\\right>$$\n",
    "\n",
    "La velocità di drift è per definizione $v_d=\\dfrac{s}{\\left<t\\right>}$, che la viscosità dipende come $\\eta=\\dfrac{\\eta_0}{1+\\dfrac{b}{p_0\\,r}}$ e $2\\,D=\\dfrac{k_B\\,T}{3\\,\\pi\\,\\eta\\,r}$, dunque:\n",
    "\n",
    "$$\\sigma_t^2=\\dfrac{k_B\\,T}{3\\,\\pi\\,\\eta_0\\,r\\,s^2}\\left(1+\\dfrac{b}{p_0\\,r}\\right)\\left<t\\right>^3$$\n",
    "\n",
    "Gli errori riportati in tabella sono le varianze legate alle medie dei tempi $\\left<t\\right>=t_g$ (oppure $t_E$), cioé $\\sigma_t=\\sigma_{\\left<t\\right>}\\,\\sqrt{N}$, pertanto si può concludere che:\n",
    "\n",
    "$$\\sigma_{\\left<t\\right>}=\\sqrt{\\dfrac{k_B\\,T}{3\\,\\pi\\,N\\,\\eta_0\\,r\\,s^2}\\left(1+\\dfrac{b}{p_0\\,r}\\right)\\left<t\\right>^3}$$\n",
    "\n",
    "dove $r$ è sempre il raggio delle gocce calcolato precedentemente."
   ]
  },
  {
   "cell_type": "code",
   "execution_count": null,
   "metadata": {},
   "outputs": [],
   "source": []
  }
 ],
 "metadata": {
  "kernelspec": {
   "display_name": "Python 3",
   "language": "python",
   "name": "python3"
  },
  "language_info": {
   "codemirror_mode": {
    "name": "ipython",
    "version": 3
   },
   "file_extension": ".py",
   "mimetype": "text/x-python",
   "name": "python",
   "nbconvert_exporter": "python",
   "pygments_lexer": "ipython3",
   "version": "3.8.5"
  }
 },
 "nbformat": 4,
 "nbformat_minor": 4
}
